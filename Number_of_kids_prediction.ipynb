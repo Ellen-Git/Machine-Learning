{
  "nbformat": 4,
  "nbformat_minor": 0,
  "metadata": {
    "colab": {
      "name": "Number of kids prediction.ipynb",
      "provenance": [],
      "authorship_tag": "ABX9TyMts68v0+9RL5xyxEtGIty+",
      "include_colab_link": true
    },
    "kernelspec": {
      "name": "python3",
      "display_name": "Python 3"
    },
    "language_info": {
      "name": "python"
    }
  },
  "cells": [
    {
      "cell_type": "markdown",
      "metadata": {
        "id": "view-in-github",
        "colab_type": "text"
      },
      "source": [
        "<a href=\"https://colab.research.google.com/github/Ellen-Git/Machine-Learning/blob/Preprocessing-Data-with-ScikitLearn/Number_of_kids_prediction.ipynb\" target=\"_parent\"><img src=\"https://colab.research.google.com/assets/colab-badge.svg\" alt=\"Open In Colab\"/></a>"
      ]
    },
    {
      "cell_type": "markdown",
      "metadata": {
        "id": "5xXVvvfQURNo"
      },
      "source": [
        "0.1    Importing necessary libraries"
      ]
    },
    {
      "cell_type": "code",
      "metadata": {
        "id": "98Q_C3UOSs7E"
      },
      "source": [
        "import numpy as np\n",
        "import pandas as pd"
      ],
      "execution_count": 4,
      "outputs": []
    },
    {
      "cell_type": "markdown",
      "metadata": {
        "id": "J22WLAIxUhMh"
      },
      "source": [
        "0.2 Reading the data"
      ]
    },
    {
      "cell_type": "code",
      "metadata": {
        "id": "so9Bo05BTJD9"
      },
      "source": [
        "data = pd.read_csv(\"/content/sample_data/data.csv\")"
      ],
      "execution_count": 5,
      "outputs": []
    },
    {
      "cell_type": "markdown",
      "metadata": {
        "id": "u1Mj7xoFUmnV"
      },
      "source": [
        "0.3 Describing the data"
      ]
    },
    {
      "cell_type": "code",
      "metadata": {
        "colab": {
          "base_uri": "https://localhost:8080/",
          "height": 173
        },
        "id": "UBVbr5W3TUD-",
        "outputId": "5db405bd-e409-4d9d-e9fe-b850d412108a"
      },
      "source": [
        "data.head()"
      ],
      "execution_count": 6,
      "outputs": [
        {
          "output_type": "execute_result",
          "data": {
            "text/html": [
              "<div>\n",
              "<style scoped>\n",
              "    .dataframe tbody tr th:only-of-type {\n",
              "        vertical-align: middle;\n",
              "    }\n",
              "\n",
              "    .dataframe tbody tr th {\n",
              "        vertical-align: top;\n",
              "    }\n",
              "\n",
              "    .dataframe thead th {\n",
              "        text-align: right;\n",
              "    }\n",
              "</style>\n",
              "<table border=\"1\" class=\"dataframe\">\n",
              "  <thead>\n",
              "    <tr style=\"text-align: right;\">\n",
              "      <th></th>\n",
              "      <th>Number of Kids</th>\n",
              "      <th>Working Experience(years)</th>\n",
              "      <th>Age</th>\n",
              "      <th>Salary</th>\n",
              "      <th>Blood Types</th>\n",
              "    </tr>\n",
              "  </thead>\n",
              "  <tbody>\n",
              "    <tr>\n",
              "      <th>0</th>\n",
              "      <td>3</td>\n",
              "      <td>15.0</td>\n",
              "      <td>45</td>\n",
              "      <td>250000</td>\n",
              "      <td>A</td>\n",
              "    </tr>\n",
              "    <tr>\n",
              "      <th>1</th>\n",
              "      <td>1</td>\n",
              "      <td>5.0</td>\n",
              "      <td>30</td>\n",
              "      <td>200000</td>\n",
              "      <td>B</td>\n",
              "    </tr>\n",
              "    <tr>\n",
              "      <th>2</th>\n",
              "      <td>2</td>\n",
              "      <td>10.0</td>\n",
              "      <td>38</td>\n",
              "      <td>150000</td>\n",
              "      <td>AB</td>\n",
              "    </tr>\n",
              "    <tr>\n",
              "      <th>3</th>\n",
              "      <td>1</td>\n",
              "      <td>NaN</td>\n",
              "      <td>36</td>\n",
              "      <td>180000</td>\n",
              "      <td>O</td>\n",
              "    </tr>\n",
              "  </tbody>\n",
              "</table>\n",
              "</div>"
            ],
            "text/plain": [
              "   Number of Kids  Working Experience(years)  Age  Salary Blood Types\n",
              "0               3                       15.0   45  250000           A\n",
              "1               1                        5.0   30  200000           B\n",
              "2               2                       10.0   38  150000          AB\n",
              "3               1                        NaN   36  180000           O"
            ]
          },
          "metadata": {
            "tags": []
          },
          "execution_count": 6
        }
      ]
    },
    {
      "cell_type": "code",
      "metadata": {
        "colab": {
          "base_uri": "https://localhost:8080/"
        },
        "id": "6jC853qFTmS_",
        "outputId": "5e221ecc-5ffc-4a4e-88d1-9f12decfbc6d"
      },
      "source": [
        "data.info()"
      ],
      "execution_count": 7,
      "outputs": [
        {
          "output_type": "stream",
          "text": [
            "<class 'pandas.core.frame.DataFrame'>\n",
            "RangeIndex: 4 entries, 0 to 3\n",
            "Data columns (total 5 columns):\n",
            " #   Column                     Non-Null Count  Dtype  \n",
            "---  ------                     --------------  -----  \n",
            " 0   Number of Kids             4 non-null      int64  \n",
            " 1   Working Experience(years)  3 non-null      float64\n",
            " 2   Age                        4 non-null      int64  \n",
            " 3   Salary                     4 non-null      int64  \n",
            " 4   Blood Types                4 non-null      object \n",
            "dtypes: float64(1), int64(3), object(1)\n",
            "memory usage: 288.0+ bytes\n"
          ],
          "name": "stdout"
        }
      ]
    },
    {
      "cell_type": "markdown",
      "metadata": {
        "id": "kdngQEVXUxYz"
      },
      "source": [
        "0.4 Filling missing data with median"
      ]
    },
    {
      "cell_type": "code",
      "metadata": {
        "id": "ImtcWhImTovz"
      },
      "source": [
        "data[\"Working Experience(years)\"].fillna(data[\"Working Experience(years)\"].median(),inplace=True)"
      ],
      "execution_count": 8,
      "outputs": []
    },
    {
      "cell_type": "code",
      "metadata": {
        "colab": {
          "base_uri": "https://localhost:8080/",
          "height": 173
        },
        "id": "MVY2ZvZwTuD8",
        "outputId": "7727fb0a-b234-4a49-871f-7e558a471bfa"
      },
      "source": [
        "data.head()"
      ],
      "execution_count": 9,
      "outputs": [
        {
          "output_type": "execute_result",
          "data": {
            "text/html": [
              "<div>\n",
              "<style scoped>\n",
              "    .dataframe tbody tr th:only-of-type {\n",
              "        vertical-align: middle;\n",
              "    }\n",
              "\n",
              "    .dataframe tbody tr th {\n",
              "        vertical-align: top;\n",
              "    }\n",
              "\n",
              "    .dataframe thead th {\n",
              "        text-align: right;\n",
              "    }\n",
              "</style>\n",
              "<table border=\"1\" class=\"dataframe\">\n",
              "  <thead>\n",
              "    <tr style=\"text-align: right;\">\n",
              "      <th></th>\n",
              "      <th>Number of Kids</th>\n",
              "      <th>Working Experience(years)</th>\n",
              "      <th>Age</th>\n",
              "      <th>Salary</th>\n",
              "      <th>Blood Types</th>\n",
              "    </tr>\n",
              "  </thead>\n",
              "  <tbody>\n",
              "    <tr>\n",
              "      <th>0</th>\n",
              "      <td>3</td>\n",
              "      <td>15.0</td>\n",
              "      <td>45</td>\n",
              "      <td>250000</td>\n",
              "      <td>A</td>\n",
              "    </tr>\n",
              "    <tr>\n",
              "      <th>1</th>\n",
              "      <td>1</td>\n",
              "      <td>5.0</td>\n",
              "      <td>30</td>\n",
              "      <td>200000</td>\n",
              "      <td>B</td>\n",
              "    </tr>\n",
              "    <tr>\n",
              "      <th>2</th>\n",
              "      <td>2</td>\n",
              "      <td>10.0</td>\n",
              "      <td>38</td>\n",
              "      <td>150000</td>\n",
              "      <td>AB</td>\n",
              "    </tr>\n",
              "    <tr>\n",
              "      <th>3</th>\n",
              "      <td>1</td>\n",
              "      <td>10.0</td>\n",
              "      <td>36</td>\n",
              "      <td>180000</td>\n",
              "      <td>O</td>\n",
              "    </tr>\n",
              "  </tbody>\n",
              "</table>\n",
              "</div>"
            ],
            "text/plain": [
              "   Number of Kids  Working Experience(years)  Age  Salary Blood Types\n",
              "0               3                       15.0   45  250000           A\n",
              "1               1                        5.0   30  200000           B\n",
              "2               2                       10.0   38  150000          AB\n",
              "3               1                       10.0   36  180000           O"
            ]
          },
          "metadata": {
            "tags": []
          },
          "execution_count": 9
        }
      ]
    },
    {
      "cell_type": "code",
      "metadata": {
        "id": "ycXlkC3yTzBO"
      },
      "source": [
        "data[\"Working Experience(years)\"]=data[\"Working Experience(years)\"].astype(int)"
      ],
      "execution_count": 10,
      "outputs": []
    },
    {
      "cell_type": "code",
      "metadata": {
        "colab": {
          "base_uri": "https://localhost:8080/",
          "height": 173
        },
        "id": "Z6OKO9xWT1sl",
        "outputId": "0b6fc51e-7261-4a17-d039-8ca04dcd0ede"
      },
      "source": [
        "data.head()"
      ],
      "execution_count": 11,
      "outputs": [
        {
          "output_type": "execute_result",
          "data": {
            "text/html": [
              "<div>\n",
              "<style scoped>\n",
              "    .dataframe tbody tr th:only-of-type {\n",
              "        vertical-align: middle;\n",
              "    }\n",
              "\n",
              "    .dataframe tbody tr th {\n",
              "        vertical-align: top;\n",
              "    }\n",
              "\n",
              "    .dataframe thead th {\n",
              "        text-align: right;\n",
              "    }\n",
              "</style>\n",
              "<table border=\"1\" class=\"dataframe\">\n",
              "  <thead>\n",
              "    <tr style=\"text-align: right;\">\n",
              "      <th></th>\n",
              "      <th>Number of Kids</th>\n",
              "      <th>Working Experience(years)</th>\n",
              "      <th>Age</th>\n",
              "      <th>Salary</th>\n",
              "      <th>Blood Types</th>\n",
              "    </tr>\n",
              "  </thead>\n",
              "  <tbody>\n",
              "    <tr>\n",
              "      <th>0</th>\n",
              "      <td>3</td>\n",
              "      <td>15</td>\n",
              "      <td>45</td>\n",
              "      <td>250000</td>\n",
              "      <td>A</td>\n",
              "    </tr>\n",
              "    <tr>\n",
              "      <th>1</th>\n",
              "      <td>1</td>\n",
              "      <td>5</td>\n",
              "      <td>30</td>\n",
              "      <td>200000</td>\n",
              "      <td>B</td>\n",
              "    </tr>\n",
              "    <tr>\n",
              "      <th>2</th>\n",
              "      <td>2</td>\n",
              "      <td>10</td>\n",
              "      <td>38</td>\n",
              "      <td>150000</td>\n",
              "      <td>AB</td>\n",
              "    </tr>\n",
              "    <tr>\n",
              "      <th>3</th>\n",
              "      <td>1</td>\n",
              "      <td>10</td>\n",
              "      <td>36</td>\n",
              "      <td>180000</td>\n",
              "      <td>O</td>\n",
              "    </tr>\n",
              "  </tbody>\n",
              "</table>\n",
              "</div>"
            ],
            "text/plain": [
              "   Number of Kids  Working Experience(years)  Age  Salary Blood Types\n",
              "0               3                         15   45  250000           A\n",
              "1               1                          5   30  200000           B\n",
              "2               2                         10   38  150000          AB\n",
              "3               1                         10   36  180000           O"
            ]
          },
          "metadata": {
            "tags": []
          },
          "execution_count": 11
        }
      ]
    },
    {
      "cell_type": "markdown",
      "metadata": {
        "id": "n3hFEpHyzuJL"
      },
      "source": [
        "0.5 Finding Correclation between Number of Kids and Age, Number of Kids and Working Experience"
      ]
    },
    {
      "cell_type": "code",
      "metadata": {
        "colab": {
          "base_uri": "https://localhost:8080/"
        },
        "id": "lrUIH4pkT5SN",
        "outputId": "b27710d9-8ed0-4552-b776-a2abf58de1ca"
      },
      "source": [
        "data[\"Number of Kids\"].corr(data[\"Age\"])"
      ],
      "execution_count": 12,
      "outputs": [
        {
          "output_type": "execute_result",
          "data": {
            "text/plain": [
              "0.9147673836616229"
            ]
          },
          "metadata": {
            "tags": []
          },
          "execution_count": 12
        }
      ]
    },
    {
      "cell_type": "code",
      "metadata": {
        "colab": {
          "base_uri": "https://localhost:8080/"
        },
        "id": "CCcVwZe3UEIj",
        "outputId": "abd9fdac-e853-4bd9-fc7c-df5f050a05e3"
      },
      "source": [
        "data[\"Working Experience(years)\"].corr(data[\"Number of Kids\"])"
      ],
      "execution_count": 13,
      "outputs": [
        {
          "output_type": "execute_result",
          "data": {
            "text/plain": [
              "0.8528028654224419"
            ]
          },
          "metadata": {
            "tags": []
          },
          "execution_count": 13
        }
      ]
    },
    {
      "cell_type": "markdown",
      "metadata": {
        "id": "0Kj9c1TfVEUx"
      },
      "source": [
        "is more related to Number of Kids -  correlation\n"
      ]
    },
    {
      "cell_type": "markdown",
      "metadata": {
        "id": "hh2_NN5oVUKC"
      },
      "source": [
        "0.6 One Hot Vectors"
      ]
    },
    {
      "cell_type": "code",
      "metadata": {
        "colab": {
          "base_uri": "https://localhost:8080/"
        },
        "id": "WmoyyHR1UFqs",
        "outputId": "2f6ce18b-2c10-4983-ab14-02a4a98d542a"
      },
      "source": [
        "blood_types_encoded,categories=data[\"Blood Types\"].factorize()\n",
        "blood_types_encoded"
      ],
      "execution_count": 14,
      "outputs": [
        {
          "output_type": "execute_result",
          "data": {
            "text/plain": [
              "array([0, 1, 2, 3])"
            ]
          },
          "metadata": {
            "tags": []
          },
          "execution_count": 14
        }
      ]
    },
    {
      "cell_type": "markdown",
      "metadata": {
        "id": "WuBWjvKFVlxz"
      },
      "source": [
        "array([0, 1, 2, 3], dtype=int64)"
      ]
    },
    {
      "cell_type": "code",
      "metadata": {
        "colab": {
          "base_uri": "https://localhost:8080/"
        },
        "id": "Mo3_FbqcVkw5",
        "outputId": "169dae57-a716-4ecb-9199-a149f1606bac"
      },
      "source": [
        "from sklearn.preprocessing import OneHotEncoder\n",
        "encoder = OneHotEncoder(sparse=False)\n",
        "blood_type_cat_1hot = encoder.fit_transform(blood_types_encoded.reshape(-1,1))\n",
        "blood_type_cat_1hot"
      ],
      "execution_count": 15,
      "outputs": [
        {
          "output_type": "execute_result",
          "data": {
            "text/plain": [
              "array([[1., 0., 0., 0.],\n",
              "       [0., 1., 0., 0.],\n",
              "       [0., 0., 1., 0.],\n",
              "       [0., 0., 0., 1.]])"
            ]
          },
          "metadata": {
            "tags": []
          },
          "execution_count": 15
        }
      ]
    },
    {
      "cell_type": "markdown",
      "metadata": {
        "id": "LM4uMR2XVshh"
      },
      "source": [
        "array(\n",
        "\n",
        "\n",
        "\n",
        " )"
      ]
    },
    {
      "cell_type": "code",
      "metadata": {
        "colab": {
          "base_uri": "https://localhost:8080/",
          "height": 173
        },
        "id": "gn07DwqvVwA_",
        "outputId": "9d232d42-6415-4ff7-bcbb-516d68e6de7b"
      },
      "source": [
        "data.head()"
      ],
      "execution_count": 16,
      "outputs": [
        {
          "output_type": "execute_result",
          "data": {
            "text/html": [
              "<div>\n",
              "<style scoped>\n",
              "    .dataframe tbody tr th:only-of-type {\n",
              "        vertical-align: middle;\n",
              "    }\n",
              "\n",
              "    .dataframe tbody tr th {\n",
              "        vertical-align: top;\n",
              "    }\n",
              "\n",
              "    .dataframe thead th {\n",
              "        text-align: right;\n",
              "    }\n",
              "</style>\n",
              "<table border=\"1\" class=\"dataframe\">\n",
              "  <thead>\n",
              "    <tr style=\"text-align: right;\">\n",
              "      <th></th>\n",
              "      <th>Number of Kids</th>\n",
              "      <th>Working Experience(years)</th>\n",
              "      <th>Age</th>\n",
              "      <th>Salary</th>\n",
              "      <th>Blood Types</th>\n",
              "    </tr>\n",
              "  </thead>\n",
              "  <tbody>\n",
              "    <tr>\n",
              "      <th>0</th>\n",
              "      <td>3</td>\n",
              "      <td>15</td>\n",
              "      <td>45</td>\n",
              "      <td>250000</td>\n",
              "      <td>A</td>\n",
              "    </tr>\n",
              "    <tr>\n",
              "      <th>1</th>\n",
              "      <td>1</td>\n",
              "      <td>5</td>\n",
              "      <td>30</td>\n",
              "      <td>200000</td>\n",
              "      <td>B</td>\n",
              "    </tr>\n",
              "    <tr>\n",
              "      <th>2</th>\n",
              "      <td>2</td>\n",
              "      <td>10</td>\n",
              "      <td>38</td>\n",
              "      <td>150000</td>\n",
              "      <td>AB</td>\n",
              "    </tr>\n",
              "    <tr>\n",
              "      <th>3</th>\n",
              "      <td>1</td>\n",
              "      <td>10</td>\n",
              "      <td>36</td>\n",
              "      <td>180000</td>\n",
              "      <td>O</td>\n",
              "    </tr>\n",
              "  </tbody>\n",
              "</table>\n",
              "</div>"
            ],
            "text/plain": [
              "   Number of Kids  Working Experience(years)  Age  Salary Blood Types\n",
              "0               3                         15   45  250000           A\n",
              "1               1                          5   30  200000           B\n",
              "2               2                         10   38  150000          AB\n",
              "3               1                         10   36  180000           O"
            ]
          },
          "metadata": {
            "tags": []
          },
          "execution_count": 16
        }
      ]
    },
    {
      "cell_type": "code",
      "metadata": {
        "colab": {
          "base_uri": "https://localhost:8080/",
          "height": 173
        },
        "id": "rMqy9WjgV4M-",
        "outputId": "47a275e1-67b9-4ff6-9838-6520fa47d0a5"
      },
      "source": [
        "one_hot=pd.get_dummies(data,columns=[\"Blood Types\"],drop_first=False,prefix='',prefix_sep='')\n",
        "one_hot"
      ],
      "execution_count": 17,
      "outputs": [
        {
          "output_type": "execute_result",
          "data": {
            "text/html": [
              "<div>\n",
              "<style scoped>\n",
              "    .dataframe tbody tr th:only-of-type {\n",
              "        vertical-align: middle;\n",
              "    }\n",
              "\n",
              "    .dataframe tbody tr th {\n",
              "        vertical-align: top;\n",
              "    }\n",
              "\n",
              "    .dataframe thead th {\n",
              "        text-align: right;\n",
              "    }\n",
              "</style>\n",
              "<table border=\"1\" class=\"dataframe\">\n",
              "  <thead>\n",
              "    <tr style=\"text-align: right;\">\n",
              "      <th></th>\n",
              "      <th>Number of Kids</th>\n",
              "      <th>Working Experience(years)</th>\n",
              "      <th>Age</th>\n",
              "      <th>Salary</th>\n",
              "      <th>A</th>\n",
              "      <th>AB</th>\n",
              "      <th>B</th>\n",
              "      <th>O</th>\n",
              "    </tr>\n",
              "  </thead>\n",
              "  <tbody>\n",
              "    <tr>\n",
              "      <th>0</th>\n",
              "      <td>3</td>\n",
              "      <td>15</td>\n",
              "      <td>45</td>\n",
              "      <td>250000</td>\n",
              "      <td>1</td>\n",
              "      <td>0</td>\n",
              "      <td>0</td>\n",
              "      <td>0</td>\n",
              "    </tr>\n",
              "    <tr>\n",
              "      <th>1</th>\n",
              "      <td>1</td>\n",
              "      <td>5</td>\n",
              "      <td>30</td>\n",
              "      <td>200000</td>\n",
              "      <td>0</td>\n",
              "      <td>0</td>\n",
              "      <td>1</td>\n",
              "      <td>0</td>\n",
              "    </tr>\n",
              "    <tr>\n",
              "      <th>2</th>\n",
              "      <td>2</td>\n",
              "      <td>10</td>\n",
              "      <td>38</td>\n",
              "      <td>150000</td>\n",
              "      <td>0</td>\n",
              "      <td>1</td>\n",
              "      <td>0</td>\n",
              "      <td>0</td>\n",
              "    </tr>\n",
              "    <tr>\n",
              "      <th>3</th>\n",
              "      <td>1</td>\n",
              "      <td>10</td>\n",
              "      <td>36</td>\n",
              "      <td>180000</td>\n",
              "      <td>0</td>\n",
              "      <td>0</td>\n",
              "      <td>0</td>\n",
              "      <td>1</td>\n",
              "    </tr>\n",
              "  </tbody>\n",
              "</table>\n",
              "</div>"
            ],
            "text/plain": [
              "   Number of Kids  Working Experience(years)  Age  Salary  A  AB  B  O\n",
              "0               3                         15   45  250000  1   0  0  0\n",
              "1               1                          5   30  200000  0   0  1  0\n",
              "2               2                         10   38  150000  0   1  0  0\n",
              "3               1                         10   36  180000  0   0  0  1"
            ]
          },
          "metadata": {
            "tags": []
          },
          "execution_count": 17
        }
      ]
    },
    {
      "cell_type": "code",
      "metadata": {
        "colab": {
          "base_uri": "https://localhost:8080/",
          "height": 173
        },
        "id": "UZNhQWnkV95t",
        "outputId": "2ad15393-4f95-4d33-db61-12706c47c473"
      },
      "source": [
        "data=data.drop(\"Blood Types\",axis=1)\n",
        "data"
      ],
      "execution_count": 18,
      "outputs": [
        {
          "output_type": "execute_result",
          "data": {
            "text/html": [
              "<div>\n",
              "<style scoped>\n",
              "    .dataframe tbody tr th:only-of-type {\n",
              "        vertical-align: middle;\n",
              "    }\n",
              "\n",
              "    .dataframe tbody tr th {\n",
              "        vertical-align: top;\n",
              "    }\n",
              "\n",
              "    .dataframe thead th {\n",
              "        text-align: right;\n",
              "    }\n",
              "</style>\n",
              "<table border=\"1\" class=\"dataframe\">\n",
              "  <thead>\n",
              "    <tr style=\"text-align: right;\">\n",
              "      <th></th>\n",
              "      <th>Number of Kids</th>\n",
              "      <th>Working Experience(years)</th>\n",
              "      <th>Age</th>\n",
              "      <th>Salary</th>\n",
              "    </tr>\n",
              "  </thead>\n",
              "  <tbody>\n",
              "    <tr>\n",
              "      <th>0</th>\n",
              "      <td>3</td>\n",
              "      <td>15</td>\n",
              "      <td>45</td>\n",
              "      <td>250000</td>\n",
              "    </tr>\n",
              "    <tr>\n",
              "      <th>1</th>\n",
              "      <td>1</td>\n",
              "      <td>5</td>\n",
              "      <td>30</td>\n",
              "      <td>200000</td>\n",
              "    </tr>\n",
              "    <tr>\n",
              "      <th>2</th>\n",
              "      <td>2</td>\n",
              "      <td>10</td>\n",
              "      <td>38</td>\n",
              "      <td>150000</td>\n",
              "    </tr>\n",
              "    <tr>\n",
              "      <th>3</th>\n",
              "      <td>1</td>\n",
              "      <td>10</td>\n",
              "      <td>36</td>\n",
              "      <td>180000</td>\n",
              "    </tr>\n",
              "  </tbody>\n",
              "</table>\n",
              "</div>"
            ],
            "text/plain": [
              "   Number of Kids  Working Experience(years)  Age  Salary\n",
              "0               3                         15   45  250000\n",
              "1               1                          5   30  200000\n",
              "2               2                         10   38  150000\n",
              "3               1                         10   36  180000"
            ]
          },
          "metadata": {
            "tags": []
          },
          "execution_count": 18
        }
      ]
    },
    {
      "cell_type": "code",
      "metadata": {
        "id": "OWsMVTCjWDKN"
      },
      "source": [
        "data=data.join(one_hot[\"A\"])\n",
        "data=data.join(one_hot[\"B\"])\n",
        "data=data.join(one_hot[\"AB\"])\n",
        "data=data.join(one_hot[\"O\"])"
      ],
      "execution_count": 19,
      "outputs": []
    },
    {
      "cell_type": "code",
      "metadata": {
        "colab": {
          "base_uri": "https://localhost:8080/",
          "height": 173
        },
        "id": "AUTldTf0zHpG",
        "outputId": "e30eee36-d934-445b-bca3-e21d7b7b33d0"
      },
      "source": [
        "data"
      ],
      "execution_count": 20,
      "outputs": [
        {
          "output_type": "execute_result",
          "data": {
            "text/html": [
              "<div>\n",
              "<style scoped>\n",
              "    .dataframe tbody tr th:only-of-type {\n",
              "        vertical-align: middle;\n",
              "    }\n",
              "\n",
              "    .dataframe tbody tr th {\n",
              "        vertical-align: top;\n",
              "    }\n",
              "\n",
              "    .dataframe thead th {\n",
              "        text-align: right;\n",
              "    }\n",
              "</style>\n",
              "<table border=\"1\" class=\"dataframe\">\n",
              "  <thead>\n",
              "    <tr style=\"text-align: right;\">\n",
              "      <th></th>\n",
              "      <th>Number of Kids</th>\n",
              "      <th>Working Experience(years)</th>\n",
              "      <th>Age</th>\n",
              "      <th>Salary</th>\n",
              "      <th>A</th>\n",
              "      <th>B</th>\n",
              "      <th>AB</th>\n",
              "      <th>O</th>\n",
              "    </tr>\n",
              "  </thead>\n",
              "  <tbody>\n",
              "    <tr>\n",
              "      <th>0</th>\n",
              "      <td>3</td>\n",
              "      <td>15</td>\n",
              "      <td>45</td>\n",
              "      <td>250000</td>\n",
              "      <td>1</td>\n",
              "      <td>0</td>\n",
              "      <td>0</td>\n",
              "      <td>0</td>\n",
              "    </tr>\n",
              "    <tr>\n",
              "      <th>1</th>\n",
              "      <td>1</td>\n",
              "      <td>5</td>\n",
              "      <td>30</td>\n",
              "      <td>200000</td>\n",
              "      <td>0</td>\n",
              "      <td>1</td>\n",
              "      <td>0</td>\n",
              "      <td>0</td>\n",
              "    </tr>\n",
              "    <tr>\n",
              "      <th>2</th>\n",
              "      <td>2</td>\n",
              "      <td>10</td>\n",
              "      <td>38</td>\n",
              "      <td>150000</td>\n",
              "      <td>0</td>\n",
              "      <td>0</td>\n",
              "      <td>1</td>\n",
              "      <td>0</td>\n",
              "    </tr>\n",
              "    <tr>\n",
              "      <th>3</th>\n",
              "      <td>1</td>\n",
              "      <td>10</td>\n",
              "      <td>36</td>\n",
              "      <td>180000</td>\n",
              "      <td>0</td>\n",
              "      <td>0</td>\n",
              "      <td>0</td>\n",
              "      <td>1</td>\n",
              "    </tr>\n",
              "  </tbody>\n",
              "</table>\n",
              "</div>"
            ],
            "text/plain": [
              "   Number of Kids  Working Experience(years)  Age  Salary  A  B  AB  O\n",
              "0               3                         15   45  250000  1  0   0  0\n",
              "1               1                          5   30  200000  0  1   0  0\n",
              "2               2                         10   38  150000  0  0   1  0\n",
              "3               1                         10   36  180000  0  0   0  1"
            ]
          },
          "metadata": {
            "tags": []
          },
          "execution_count": 20
        }
      ]
    },
    {
      "cell_type": "markdown",
      "metadata": {
        "id": "48XifyhrzTdt"
      },
      "source": [
        "        0.7    Scaling the data"
      ]
    },
    {
      "cell_type": "code",
      "metadata": {
        "id": "PFoVsTvizaFK"
      },
      "source": [
        "from sklearn.preprocessing import StandardScaler"
      ],
      "execution_count": 21,
      "outputs": []
    },
    {
      "cell_type": "code",
      "metadata": {
        "id": "hJXiZ4PozecG"
      },
      "source": [
        "scaler = StandardScaler()\n",
        "data_scaled = pd.DataFrame(scaler.fit_transform(data),columns=\n",
        "          [\"Number of Kids\",\"Working Experience(years)\",\"Age\",\n",
        "           \"Salary\",\"Blood Type A\",\"Blood Type B\",\"Blood Type AB\",\n",
        "           \"Blood Type O\"])"
      ],
      "execution_count": 22,
      "outputs": []
    },
    {
      "cell_type": "code",
      "metadata": {
        "colab": {
          "base_uri": "https://localhost:8080/",
          "height": 210
        },
        "id": "RARU1b_Tzizy",
        "outputId": "8e387c6a-bc80-4880-bc99-1ce38662c4e6"
      },
      "source": [
        "data_scaled"
      ],
      "execution_count": 23,
      "outputs": [
        {
          "output_type": "execute_result",
          "data": {
            "text/html": [
              "<div>\n",
              "<style scoped>\n",
              "    .dataframe tbody tr th:only-of-type {\n",
              "        vertical-align: middle;\n",
              "    }\n",
              "\n",
              "    .dataframe tbody tr th {\n",
              "        vertical-align: top;\n",
              "    }\n",
              "\n",
              "    .dataframe thead th {\n",
              "        text-align: right;\n",
              "    }\n",
              "</style>\n",
              "<table border=\"1\" class=\"dataframe\">\n",
              "  <thead>\n",
              "    <tr style=\"text-align: right;\">\n",
              "      <th></th>\n",
              "      <th>Number of Kids</th>\n",
              "      <th>Working Experience(years)</th>\n",
              "      <th>Age</th>\n",
              "      <th>Salary</th>\n",
              "      <th>Blood Type A</th>\n",
              "      <th>Blood Type B</th>\n",
              "      <th>Blood Type AB</th>\n",
              "      <th>Blood Type O</th>\n",
              "    </tr>\n",
              "  </thead>\n",
              "  <tbody>\n",
              "    <tr>\n",
              "      <th>0</th>\n",
              "      <td>1.507557</td>\n",
              "      <td>1.414214</td>\n",
              "      <td>1.446956</td>\n",
              "      <td>1.510966</td>\n",
              "      <td>1.732051</td>\n",
              "      <td>-0.577350</td>\n",
              "      <td>-0.577350</td>\n",
              "      <td>-0.577350</td>\n",
              "    </tr>\n",
              "    <tr>\n",
              "      <th>1</th>\n",
              "      <td>-0.904534</td>\n",
              "      <td>-1.414214</td>\n",
              "      <td>-1.353604</td>\n",
              "      <td>0.137361</td>\n",
              "      <td>-0.577350</td>\n",
              "      <td>1.732051</td>\n",
              "      <td>-0.577350</td>\n",
              "      <td>-0.577350</td>\n",
              "    </tr>\n",
              "    <tr>\n",
              "      <th>2</th>\n",
              "      <td>0.301511</td>\n",
              "      <td>0.000000</td>\n",
              "      <td>0.140028</td>\n",
              "      <td>-1.236245</td>\n",
              "      <td>-0.577350</td>\n",
              "      <td>-0.577350</td>\n",
              "      <td>1.732051</td>\n",
              "      <td>-0.577350</td>\n",
              "    </tr>\n",
              "    <tr>\n",
              "      <th>3</th>\n",
              "      <td>-0.904534</td>\n",
              "      <td>0.000000</td>\n",
              "      <td>-0.233380</td>\n",
              "      <td>-0.412082</td>\n",
              "      <td>-0.577350</td>\n",
              "      <td>-0.577350</td>\n",
              "      <td>-0.577350</td>\n",
              "      <td>1.732051</td>\n",
              "    </tr>\n",
              "  </tbody>\n",
              "</table>\n",
              "</div>"
            ],
            "text/plain": [
              "   Number of Kids  Working Experience(years)  ...  Blood Type AB  Blood Type O\n",
              "0        1.507557                   1.414214  ...      -0.577350     -0.577350\n",
              "1       -0.904534                  -1.414214  ...      -0.577350     -0.577350\n",
              "2        0.301511                   0.000000  ...       1.732051     -0.577350\n",
              "3       -0.904534                   0.000000  ...      -0.577350      1.732051\n",
              "\n",
              "[4 rows x 8 columns]"
            ]
          },
          "metadata": {
            "tags": []
          },
          "execution_count": 23
        }
      ]
    },
    {
      "cell_type": "code",
      "metadata": {
        "colab": {
          "base_uri": "https://localhost:8080/",
          "height": 190
        },
        "id": "ODVxyt03zlfB",
        "outputId": "b8f110e9-bc67-4981-c1bb-3d5c989951cc"
      },
      "source": [
        "data_scaled.round(decimals=2)"
      ],
      "execution_count": 24,
      "outputs": [
        {
          "output_type": "execute_result",
          "data": {
            "text/html": [
              "<div>\n",
              "<style scoped>\n",
              "    .dataframe tbody tr th:only-of-type {\n",
              "        vertical-align: middle;\n",
              "    }\n",
              "\n",
              "    .dataframe tbody tr th {\n",
              "        vertical-align: top;\n",
              "    }\n",
              "\n",
              "    .dataframe thead th {\n",
              "        text-align: right;\n",
              "    }\n",
              "</style>\n",
              "<table border=\"1\" class=\"dataframe\">\n",
              "  <thead>\n",
              "    <tr style=\"text-align: right;\">\n",
              "      <th></th>\n",
              "      <th>Number of Kids</th>\n",
              "      <th>Working Experience(years)</th>\n",
              "      <th>Age</th>\n",
              "      <th>Salary</th>\n",
              "      <th>Blood Type A</th>\n",
              "      <th>Blood Type B</th>\n",
              "      <th>Blood Type AB</th>\n",
              "      <th>Blood Type O</th>\n",
              "    </tr>\n",
              "  </thead>\n",
              "  <tbody>\n",
              "    <tr>\n",
              "      <th>0</th>\n",
              "      <td>1.51</td>\n",
              "      <td>1.41</td>\n",
              "      <td>1.45</td>\n",
              "      <td>1.51</td>\n",
              "      <td>1.73</td>\n",
              "      <td>-0.58</td>\n",
              "      <td>-0.58</td>\n",
              "      <td>-0.58</td>\n",
              "    </tr>\n",
              "    <tr>\n",
              "      <th>1</th>\n",
              "      <td>-0.90</td>\n",
              "      <td>-1.41</td>\n",
              "      <td>-1.35</td>\n",
              "      <td>0.14</td>\n",
              "      <td>-0.58</td>\n",
              "      <td>1.73</td>\n",
              "      <td>-0.58</td>\n",
              "      <td>-0.58</td>\n",
              "    </tr>\n",
              "    <tr>\n",
              "      <th>2</th>\n",
              "      <td>0.30</td>\n",
              "      <td>0.00</td>\n",
              "      <td>0.14</td>\n",
              "      <td>-1.24</td>\n",
              "      <td>-0.58</td>\n",
              "      <td>-0.58</td>\n",
              "      <td>1.73</td>\n",
              "      <td>-0.58</td>\n",
              "    </tr>\n",
              "    <tr>\n",
              "      <th>3</th>\n",
              "      <td>-0.90</td>\n",
              "      <td>0.00</td>\n",
              "      <td>-0.23</td>\n",
              "      <td>-0.41</td>\n",
              "      <td>-0.58</td>\n",
              "      <td>-0.58</td>\n",
              "      <td>-0.58</td>\n",
              "      <td>1.73</td>\n",
              "    </tr>\n",
              "  </tbody>\n",
              "</table>\n",
              "</div>"
            ],
            "text/plain": [
              "   Number of Kids  Working Experience(years)  ...  Blood Type AB  Blood Type O\n",
              "0            1.51                       1.41  ...          -0.58         -0.58\n",
              "1           -0.90                      -1.41  ...          -0.58         -0.58\n",
              "2            0.30                       0.00  ...           1.73         -0.58\n",
              "3           -0.90                       0.00  ...          -0.58          1.73\n",
              "\n",
              "[4 rows x 8 columns]"
            ]
          },
          "metadata": {
            "tags": []
          },
          "execution_count": 24
        }
      ]
    }
  ]
}