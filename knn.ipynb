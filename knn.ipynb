{
  "nbformat": 4,
  "nbformat_minor": 0,
  "metadata": {
    "colab": {
      "name": "knn.ipynb",
      "provenance": [],
      "authorship_tag": "ABX9TyOG1RBHbs53CyeFO0YpG3W1",
      "include_colab_link": true
    },
    "kernelspec": {
      "name": "python3",
      "display_name": "Python 3"
    },
    "language_info": {
      "name": "python"
    }
  },
  "cells": [
    {
      "cell_type": "markdown",
      "metadata": {
        "id": "view-in-github",
        "colab_type": "text"
      },
      "source": [
        "<a href=\"https://colab.research.google.com/github/Ellen-Git/Machine-Learning/blob/%2B-Falling-Prediction-using-KNN/knn.ipynb\" target=\"_parent\"><img src=\"https://colab.research.google.com/assets/colab-badge.svg\" alt=\"Open In Colab\"/></a>"
      ]
    },
    {
      "cell_type": "code",
      "metadata": {
        "id": "Z5VI0v9jjlmr"
      },
      "source": [
        ""
      ],
      "execution_count": null,
      "outputs": []
    },
    {
      "cell_type": "code",
      "metadata": {
        "colab": {
          "base_uri": "https://localhost:8080/"
        },
        "id": "9N42A9HL1vzX",
        "outputId": "d4c859fa-dea1-4267-b786-8fef1d1c6a79"
      },
      "source": [
        "# Making predictions\n",
        "from math import sqrt\n",
        "\n",
        "# Calculate the Euclidean distance between two vectors\n",
        "def euclidean_distance(row1, row2):\n",
        "    distance = 0.0\n",
        "    for i in range(len(row1)-1):\n",
        "        distance += (row1[i] - row2[i])**2\n",
        "    return sqrt(distance)\n",
        "# Locate the most similar neighbors\n",
        "def get_neighbors(train, test_row, num_neighbors):\n",
        "\tdistances = list()\n",
        "\tfor train_row in train:\n",
        "\t\tdist = euclidean_distance(test_row, train_row)\n",
        "\t\tdistances.append((train_row, dist))\n",
        "\tdistances.sort(key=lambda tup: tup[1])\n",
        "\tneighbors = list()\n",
        "\tfor i in range(num_neighbors):\n",
        "\t\tneighbors.append(distances[i][0])\n",
        "\treturn neighbors\n",
        "# Make a classification prediction with neighbors\n",
        "# - test_row is row 0\n",
        "# - num_neighbors is 3\n",
        "def predict_classification(train, test_row, num_neighbors):\n",
        "\tneighbors = get_neighbors(train, test_row, num_neighbors)\n",
        "\toutput_values = [row[-1] for row in neighbors]\n",
        "\tprediction = max(set(output_values), key=output_values.count)\n",
        "\treturn prediction\n",
        "# Test distance function\n",
        "dataset = [[7,6,5,5,6,7,0],\n",
        "          [1,2,3,2,1,3,0],\n",
        "          [2,1,3,3,1,2,0],\n",
        "          [1,1,2,3,2,2,0],\n",
        "          [2,2,3,3,2,1,0],\n",
        "          [6,5,7,5,6,7,1],\n",
        "          [5,6,6,6,5,7,1],\n",
        "          [5,6,7,5,7,6,1],\n",
        "          [7,6,7,6,5,6,1]]\n",
        "# Display Distance to each neighbor\n",
        "row0 = dataset[0]\n",
        "for row in dataset:\n",
        "    distance = euclidean_distance(row0,row)\n",
        "    print(distance)\n",
        "# Display most similar neighbors\n",
        "neighbors = get_neighbors(dataset, dataset[0],3)\n",
        "for neighbor in neighbors:\n",
        "    print(neighbor)\n",
        "# row 0 is the one to be predicted\n",
        "prediction = predict_classification(dataset, dataset[0], 3)\n",
        "# dataset[0][-1] is the last element of row 0 of dataset\n",
        "# Display\n",
        "print('Expected %d, Got %d.' % (dataset[0][-1], prediction))\n"
      ],
      "execution_count": null,
      "outputs": [
        {
          "output_type": "stream",
          "text": [
            "0.0\n",
            "10.295630140987\n",
            "10.392304845413264\n",
            "10.723805294763608\n",
            "10.04987562112089\n",
            "2.449489742783178\n",
            "2.6457513110645907\n",
            "3.1622776601683795\n",
            "2.6457513110645907\n",
            "[7, 6, 5, 5, 6, 7, 0]\n",
            "[6, 5, 7, 5, 6, 7, 1]\n",
            "[5, 6, 6, 6, 5, 7, 1]\n",
            "Expected 0, Got 1.\n"
          ],
          "name": "stdout"
        }
      ]
    }
  ]
}